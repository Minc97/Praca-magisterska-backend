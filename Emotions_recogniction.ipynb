{
  "nbformat": 4,
  "nbformat_minor": 0,
  "metadata": {
    "colab": {
      "name": "Emotions-recogniction.ipynb",
      "provenance": [],
      "collapsed_sections": [],
      "authorship_tag": "ABX9TyO31/WYKCSDZcbZomN67cS5",
      "include_colab_link": true
    },
    "kernelspec": {
      "name": "python3",
      "display_name": "Python 3"
    },
    "language_info": {
      "name": "python"
    },
    "accelerator": "GPU"
  },
  "cells": [
    {
      "cell_type": "markdown",
      "metadata": {
        "id": "view-in-github",
        "colab_type": "text"
      },
      "source": [
        "<a href=\"https://colab.research.google.com/github/Minc97/Praca-magisterska-backend/blob/master/Emotions_recogniction.ipynb\" target=\"_parent\"><img src=\"https://colab.research.google.com/assets/colab-badge.svg\" alt=\"Open In Colab\"/></a>"
      ]
    },
    {
      "cell_type": "code",
      "metadata": {
        "id": "OIUV11onC8EE"
      },
      "source": [
        "import numpy as np \n",
        "import pandas as pd \n",
        "import os\n",
        "import matplotlib.pyplot as plt\n",
        "import seaborn as sns\n",
        "import tensorflow as tf\n",
        "import keras\n",
        "from keras.preprocessing import image\n",
        "from keras.models import Sequential\n",
        "from keras.layers import Conv2D, MaxPool2D, Flatten,Dense,Dropout,BatchNormalization, ZeroPadding2D, Convolution2D, MaxPooling2D, Activation\n",
        "from tensorflow.keras.preprocessing.image import ImageDataGenerator\n",
        "import cv2\n",
        "from tensorflow.keras.applications import VGG16, InceptionResNetV2\n",
        "from keras import regularizers\n",
        "from tensorflow.keras.optimizers import Adam,RMSprop,SGD,Adamax\n",
        "from zipfile import ZipFile\n",
        "\n"
      ],
      "execution_count": 1,
      "outputs": []
    },
    {
      "cell_type": "code",
      "metadata": {
        "id": "EhlwXTVoDW7u",
        "colab": {
          "base_uri": "https://localhost:8080/"
        },
        "outputId": "b8a06a10-c5e2-429d-df8c-fcc67ba6d7a2"
      },
      "source": [
        "!gdown 'https://drive.google.com/uc?id=17J5FbFqnkdzrTbMuEMrRUiJrvHB4BUZv' -O image_dataset.zip\n",
        "\n",
        "!mkdir -p image_dataset\n",
        "\n",
        "with ZipFile('image_dataset.zip', 'r') as zip:\n",
        "    zip.extractall('image_dataset')\n",
        "\n",
        "!rm image_dataset.zip"
      ],
      "execution_count": 2,
      "outputs": [
        {
          "output_type": "stream",
          "text": [
            "Downloading...\n",
            "From: https://drive.google.com/uc?id=17J5FbFqnkdzrTbMuEMrRUiJrvHB4BUZv\n",
            "To: /content/image_dataset.zip\n",
            "68.3MB [00:00, 95.6MB/s]\n"
          ],
          "name": "stdout"
        }
      ]
    },
    {
      "cell_type": "code",
      "metadata": {
        "id": "J-eooIP6Ed7S"
      },
      "source": [
        "train_dir = \"image_dataset/train\" \n",
        "test_dir = \"image_dataset/test\"  \n",
        "img_size = 48\n",
        "num_classes = 7"
      ],
      "execution_count": 3,
      "outputs": []
    },
    {
      "cell_type": "code",
      "metadata": {
        "id": "2XfajH68E728"
      },
      "source": [
        "train_datagen = ImageDataGenerator( #rotation_range = 120,\n",
        "                                         width_shift_range = 0.2,\n",
        "                                         height_shift_range = 0.2,\n",
        "                                         horizontal_flip = True,\n",
        "                                         rescale = 1./255,\n",
        "                                         zoom_range = 0.2,\n",
        "                                         validation_split = 0.2\n",
        "                                        )\n",
        "\n",
        "validation_datagen = ImageDataGenerator(rescale = 1./255,\n",
        "                                         validation_split = 0.2)"
      ],
      "execution_count": 4,
      "outputs": []
    },
    {
      "cell_type": "code",
      "metadata": {
        "colab": {
          "base_uri": "https://localhost:8080/"
        },
        "id": "IMdN0r2XE_Im",
        "outputId": "462b86e0-7901-47da-8285-7dddaec45273"
      },
      "source": [
        "train_generator = train_datagen.flow_from_directory(directory = train_dir,\n",
        "                                                    target_size = (img_size,img_size),\n",
        "                                                    batch_size = 128,\n",
        "                                                    color_mode = \"grayscale\",\n",
        "                                                    class_mode = \"categorical\",\n",
        "                                                    subset = \"training\"\n",
        "                                                   )\n",
        "validation_generator = validation_datagen.flow_from_directory( directory = test_dir,\n",
        "                                                              target_size = (img_size,img_size),\n",
        "                                                              batch_size = 128,\n",
        "                                                              color_mode = \"grayscale\",\n",
        "                                                              class_mode = \"categorical\",\n",
        "                                                              subset = \"validation\"\n",
        "                                                             )"
      ],
      "execution_count": 5,
      "outputs": [
        {
          "output_type": "stream",
          "text": [
            "Found 22968 images belonging to 7 classes.\n",
            "Found 1432 images belonging to 7 classes.\n"
          ],
          "name": "stdout"
        }
      ]
    },
    {
      "cell_type": "code",
      "metadata": {
        "id": "rmItqsDxFFFs"
      },
      "source": [
        "model= tf.keras.models.Sequential()\n",
        "model.add(Conv2D(32, kernel_size=(3, 3), padding='same', activation='relu', input_shape=(48, 48, 1)))\n",
        "model.add(BatchNormalization())\n",
        "\n",
        "model.add(Conv2D(64, (3,3), padding='same', activation='relu' ))\n",
        "model.add(BatchNormalization())\n",
        "\n",
        "model.add(Conv2D(128, (4,4), padding='same', activation='relu' ))\n",
        "model.add(BatchNormalization())\n",
        "\n",
        "model.add(MaxPool2D(pool_size=(2, 2)))\n",
        "\n",
        "model.add(Conv2D(128, (4,4), padding='same', activation='relu' ))\n",
        "model.add(BatchNormalization())\n",
        "\n",
        "model.add(Conv2D(128, (4,4), padding='same', activation='relu' ))\n",
        "model.add(BatchNormalization())\n",
        "\n",
        "model.add(MaxPool2D(pool_size=(2, 2)))\n",
        "\n",
        "model.add(Conv2D(256, (4,4), padding='same', activation='relu' ))\n",
        "model.add(BatchNormalization())\n",
        "\n",
        "model.add(Conv2D(256, (4,4), padding='same', activation='relu' ))\n",
        "model.add(BatchNormalization())\n",
        "\n",
        "model.add(MaxPool2D(pool_size=(2, 2)))\n",
        "model.add(Dropout(0.5))\n",
        "\n",
        "model.add(Flatten()) \n",
        "model.add(Dense(400,activation = 'relu'))\n",
        "model.add(Dense(7, activation='softmax'))\n",
        "\n",
        "model.compile(\n",
        "    optimizer = Adam(lr=0.0001), \n",
        "    loss='categorical_crossentropy', \n",
        "    metrics=['accuracy']\n",
        "  )"
      ],
      "execution_count": 49,
      "outputs": []
    },
    {
      "cell_type": "code",
      "metadata": {
        "id": "luwnBfGpFYzq"
      },
      "source": [
        "epochs = 60\n",
        "batch_size = 64"
      ],
      "execution_count": 50,
      "outputs": []
    },
    {
      "cell_type": "code",
      "metadata": {
        "colab": {
          "base_uri": "https://localhost:8080/"
        },
        "id": "PcFrGDm5FdMg",
        "outputId": "f9c7c902-70d6-4c4e-fb83-00715d321875"
      },
      "source": [
        "model.summary()"
      ],
      "execution_count": 51,
      "outputs": [
        {
          "output_type": "stream",
          "text": [
            "Model: \"sequential_15\"\n",
            "_________________________________________________________________\n",
            "Layer (type)                 Output Shape              Param #   \n",
            "=================================================================\n",
            "conv2d_64 (Conv2D)           (None, 48, 48, 32)        320       \n",
            "_________________________________________________________________\n",
            "batch_normalization_52 (Batc (None, 48, 48, 32)        128       \n",
            "_________________________________________________________________\n",
            "conv2d_65 (Conv2D)           (None, 48, 48, 64)        18496     \n",
            "_________________________________________________________________\n",
            "batch_normalization_53 (Batc (None, 48, 48, 64)        256       \n",
            "_________________________________________________________________\n",
            "conv2d_66 (Conv2D)           (None, 48, 48, 128)       131200    \n",
            "_________________________________________________________________\n",
            "batch_normalization_54 (Batc (None, 48, 48, 128)       512       \n",
            "_________________________________________________________________\n",
            "max_pooling2d_51 (MaxPooling (None, 24, 24, 128)       0         \n",
            "_________________________________________________________________\n",
            "conv2d_67 (Conv2D)           (None, 24, 24, 128)       262272    \n",
            "_________________________________________________________________\n",
            "batch_normalization_55 (Batc (None, 24, 24, 128)       512       \n",
            "_________________________________________________________________\n",
            "conv2d_68 (Conv2D)           (None, 24, 24, 128)       262272    \n",
            "_________________________________________________________________\n",
            "batch_normalization_56 (Batc (None, 24, 24, 128)       512       \n",
            "_________________________________________________________________\n",
            "max_pooling2d_52 (MaxPooling (None, 12, 12, 128)       0         \n",
            "_________________________________________________________________\n",
            "conv2d_69 (Conv2D)           (None, 12, 12, 256)       524544    \n",
            "_________________________________________________________________\n",
            "batch_normalization_57 (Batc (None, 12, 12, 256)       1024      \n",
            "_________________________________________________________________\n",
            "conv2d_70 (Conv2D)           (None, 12, 12, 256)       1048832   \n",
            "_________________________________________________________________\n",
            "batch_normalization_58 (Batc (None, 12, 12, 256)       1024      \n",
            "_________________________________________________________________\n",
            "max_pooling2d_53 (MaxPooling (None, 6, 6, 256)         0         \n",
            "_________________________________________________________________\n",
            "dropout_45 (Dropout)         (None, 6, 6, 256)         0         \n",
            "_________________________________________________________________\n",
            "flatten_10 (Flatten)         (None, 9216)              0         \n",
            "_________________________________________________________________\n",
            "dense_24 (Dense)             (None, 400)               3686800   \n",
            "_________________________________________________________________\n",
            "dense_25 (Dense)             (None, 7)                 2807      \n",
            "=================================================================\n",
            "Total params: 5,941,511\n",
            "Trainable params: 5,939,527\n",
            "Non-trainable params: 1,984\n",
            "_________________________________________________________________\n"
          ],
          "name": "stdout"
        }
      ]
    },
    {
      "cell_type": "code",
      "metadata": {
        "id": "VbPhVr4oFfUk",
        "colab": {
          "base_uri": "https://localhost:8080/"
        },
        "outputId": "2016aa5a-fbde-472b-c88e-f30e0819b280"
      },
      "source": [
        "history = model.fit(x = train_generator,epochs = epochs, validation_data = validation_generator)"
      ],
      "execution_count": 52,
      "outputs": [
        {
          "output_type": "stream",
          "text": [
            "Epoch 1/60\n",
            "180/180 [==============================] - 56s 292ms/step - loss: 2.5701 - accuracy: 0.2144 - val_loss: 3.1439 - val_accuracy: 0.1718\n",
            "Epoch 2/60\n",
            "180/180 [==============================] - 55s 306ms/step - loss: 1.7906 - accuracy: 0.2661 - val_loss: 1.9000 - val_accuracy: 0.2556\n",
            "Epoch 3/60\n",
            "180/180 [==============================] - 58s 319ms/step - loss: 1.7496 - accuracy: 0.2868 - val_loss: 1.7222 - val_accuracy: 0.3108\n",
            "Epoch 4/60\n",
            "180/180 [==============================] - 52s 289ms/step - loss: 1.6846 - accuracy: 0.3223 - val_loss: 1.5581 - val_accuracy: 0.4113\n",
            "Epoch 5/60\n",
            "180/180 [==============================] - 53s 295ms/step - loss: 1.6378 - accuracy: 0.3492 - val_loss: 1.5069 - val_accuracy: 0.3980\n",
            "Epoch 6/60\n",
            "180/180 [==============================] - 54s 300ms/step - loss: 1.5821 - accuracy: 0.3778 - val_loss: 1.4431 - val_accuracy: 0.4728\n",
            "Epoch 7/60\n",
            "180/180 [==============================] - 53s 292ms/step - loss: 1.5189 - accuracy: 0.4045 - val_loss: 1.3976 - val_accuracy: 0.4735\n",
            "Epoch 8/60\n",
            "180/180 [==============================] - 56s 309ms/step - loss: 1.4611 - accuracy: 0.4379 - val_loss: 1.4188 - val_accuracy: 0.4546\n",
            "Epoch 9/60\n",
            "180/180 [==============================] - 51s 285ms/step - loss: 1.4281 - accuracy: 0.4496 - val_loss: 1.3130 - val_accuracy: 0.4860\n",
            "Epoch 10/60\n",
            "180/180 [==============================] - 56s 308ms/step - loss: 1.3850 - accuracy: 0.4654 - val_loss: 1.2288 - val_accuracy: 0.5230\n",
            "Epoch 11/60\n",
            "180/180 [==============================] - 56s 313ms/step - loss: 1.3297 - accuracy: 0.4908 - val_loss: 1.2515 - val_accuracy: 0.4958\n",
            "Epoch 12/60\n",
            "180/180 [==============================] - 51s 284ms/step - loss: 1.2910 - accuracy: 0.5057 - val_loss: 1.1861 - val_accuracy: 0.5412\n",
            "Epoch 13/60\n",
            "180/180 [==============================] - 53s 294ms/step - loss: 1.2713 - accuracy: 0.5158 - val_loss: 1.1675 - val_accuracy: 0.5622\n",
            "Epoch 14/60\n",
            "180/180 [==============================] - 54s 300ms/step - loss: 1.2304 - accuracy: 0.5331 - val_loss: 1.1410 - val_accuracy: 0.5538\n",
            "Epoch 15/60\n",
            "180/180 [==============================] - 53s 295ms/step - loss: 1.2022 - accuracy: 0.5431 - val_loss: 1.1569 - val_accuracy: 0.5482\n",
            "Epoch 16/60\n",
            "180/180 [==============================] - 57s 316ms/step - loss: 1.1956 - accuracy: 0.5441 - val_loss: 1.0929 - val_accuracy: 0.5782\n",
            "Epoch 17/60\n",
            "180/180 [==============================] - 51s 284ms/step - loss: 1.1676 - accuracy: 0.5607 - val_loss: 1.1045 - val_accuracy: 0.5817\n",
            "Epoch 18/60\n",
            "180/180 [==============================] - 56s 308ms/step - loss: 1.1441 - accuracy: 0.5672 - val_loss: 1.1663 - val_accuracy: 0.5670\n",
            "Epoch 19/60\n",
            "180/180 [==============================] - 57s 315ms/step - loss: 1.1294 - accuracy: 0.5697 - val_loss: 1.1783 - val_accuracy: 0.5601\n",
            "Epoch 20/60\n",
            "180/180 [==============================] - 51s 285ms/step - loss: 1.0983 - accuracy: 0.5815 - val_loss: 1.0795 - val_accuracy: 0.6034\n",
            "Epoch 21/60\n",
            "180/180 [==============================] - 52s 290ms/step - loss: 1.0796 - accuracy: 0.5924 - val_loss: 1.0965 - val_accuracy: 0.5747\n",
            "Epoch 22/60\n",
            "180/180 [==============================] - 54s 299ms/step - loss: 1.0789 - accuracy: 0.5920 - val_loss: 1.0633 - val_accuracy: 0.6082\n",
            "Epoch 23/60\n",
            "180/180 [==============================] - 53s 293ms/step - loss: 1.0495 - accuracy: 0.5982 - val_loss: 1.0931 - val_accuracy: 0.5950\n",
            "Epoch 24/60\n",
            "180/180 [==============================] - 55s 308ms/step - loss: 1.0237 - accuracy: 0.6107 - val_loss: 1.0443 - val_accuracy: 0.6110\n",
            "Epoch 25/60\n",
            "180/180 [==============================] - 51s 282ms/step - loss: 1.0349 - accuracy: 0.6107 - val_loss: 1.0603 - val_accuracy: 0.5929\n",
            "Epoch 26/60\n",
            "180/180 [==============================] - 56s 308ms/step - loss: 1.0016 - accuracy: 0.6202 - val_loss: 1.0560 - val_accuracy: 0.6068\n",
            "Epoch 27/60\n",
            "180/180 [==============================] - 57s 319ms/step - loss: 0.9811 - accuracy: 0.6314 - val_loss: 1.0488 - val_accuracy: 0.6124\n",
            "Epoch 28/60\n",
            "180/180 [==============================] - 51s 286ms/step - loss: 0.9822 - accuracy: 0.6303 - val_loss: 1.0699 - val_accuracy: 0.5992\n",
            "Epoch 29/60\n",
            "180/180 [==============================] - 53s 293ms/step - loss: 0.9570 - accuracy: 0.6438 - val_loss: 1.0962 - val_accuracy: 0.6020\n",
            "Epoch 30/60\n",
            "180/180 [==============================] - 54s 299ms/step - loss: 0.9535 - accuracy: 0.6356 - val_loss: 1.0524 - val_accuracy: 0.6152\n",
            "Epoch 31/60\n",
            "180/180 [==============================] - 53s 295ms/step - loss: 0.9472 - accuracy: 0.6433 - val_loss: 1.1185 - val_accuracy: 0.5971\n",
            "Epoch 32/60\n",
            "180/180 [==============================] - 57s 315ms/step - loss: 0.9329 - accuracy: 0.6465 - val_loss: 1.0554 - val_accuracy: 0.6250\n",
            "Epoch 33/60\n",
            "180/180 [==============================] - 51s 283ms/step - loss: 0.9247 - accuracy: 0.6536 - val_loss: 1.1030 - val_accuracy: 0.6054\n",
            "Epoch 34/60\n",
            "180/180 [==============================] - 55s 308ms/step - loss: 0.9004 - accuracy: 0.6608 - val_loss: 1.0241 - val_accuracy: 0.6292\n",
            "Epoch 35/60\n",
            "180/180 [==============================] - 57s 315ms/step - loss: 0.8981 - accuracy: 0.6588 - val_loss: 1.0500 - val_accuracy: 0.6250\n",
            "Epoch 36/60\n",
            "180/180 [==============================] - 51s 285ms/step - loss: 0.8946 - accuracy: 0.6588 - val_loss: 1.0548 - val_accuracy: 0.6089\n",
            "Epoch 37/60\n",
            "180/180 [==============================] - 53s 293ms/step - loss: 0.8677 - accuracy: 0.6791 - val_loss: 1.0388 - val_accuracy: 0.6250\n",
            "Epoch 38/60\n",
            "180/180 [==============================] - 54s 299ms/step - loss: 0.8695 - accuracy: 0.6757 - val_loss: 1.0369 - val_accuracy: 0.6411\n",
            "Epoch 39/60\n",
            "180/180 [==============================] - 53s 293ms/step - loss: 0.8597 - accuracy: 0.6810 - val_loss: 1.0824 - val_accuracy: 0.6013\n",
            "Epoch 40/60\n",
            "180/180 [==============================] - 57s 315ms/step - loss: 0.8492 - accuracy: 0.6793 - val_loss: 1.0242 - val_accuracy: 0.6243\n",
            "Epoch 41/60\n",
            "180/180 [==============================] - 51s 283ms/step - loss: 0.8420 - accuracy: 0.6863 - val_loss: 1.0154 - val_accuracy: 0.6334\n",
            "Epoch 42/60\n",
            "180/180 [==============================] - 56s 308ms/step - loss: 0.8223 - accuracy: 0.6869 - val_loss: 1.0409 - val_accuracy: 0.6215\n",
            "Epoch 43/60\n",
            "180/180 [==============================] - 57s 316ms/step - loss: 0.8281 - accuracy: 0.6872 - val_loss: 1.0352 - val_accuracy: 0.6320\n",
            "Epoch 44/60\n",
            "180/180 [==============================] - 52s 286ms/step - loss: 0.7933 - accuracy: 0.7003 - val_loss: 1.0035 - val_accuracy: 0.6459\n",
            "Epoch 45/60\n",
            "180/180 [==============================] - 53s 293ms/step - loss: 0.7906 - accuracy: 0.7056 - val_loss: 1.0383 - val_accuracy: 0.6334\n",
            "Epoch 46/60\n",
            "180/180 [==============================] - 54s 299ms/step - loss: 0.7954 - accuracy: 0.7030 - val_loss: 1.0473 - val_accuracy: 0.6480\n",
            "Epoch 47/60\n",
            "180/180 [==============================] - 53s 293ms/step - loss: 0.7913 - accuracy: 0.7052 - val_loss: 1.0313 - val_accuracy: 0.6362\n",
            "Epoch 48/60\n",
            "180/180 [==============================] - 55s 307ms/step - loss: 0.7704 - accuracy: 0.7110 - val_loss: 1.0332 - val_accuracy: 0.6501\n",
            "Epoch 49/60\n",
            "180/180 [==============================] - 51s 283ms/step - loss: 0.7616 - accuracy: 0.7211 - val_loss: 1.0856 - val_accuracy: 0.6362\n",
            "Epoch 50/60\n",
            "180/180 [==============================] - 55s 308ms/step - loss: 0.7463 - accuracy: 0.7213 - val_loss: 1.0536 - val_accuracy: 0.6334\n",
            "Epoch 51/60\n",
            "180/180 [==============================] - 57s 317ms/step - loss: 0.7460 - accuracy: 0.7208 - val_loss: 1.0003 - val_accuracy: 0.6529\n",
            "Epoch 52/60\n",
            "180/180 [==============================] - 51s 284ms/step - loss: 0.7324 - accuracy: 0.7307 - val_loss: 1.0812 - val_accuracy: 0.6411\n",
            "Epoch 53/60\n",
            "180/180 [==============================] - 53s 292ms/step - loss: 0.7123 - accuracy: 0.7340 - val_loss: 1.0318 - val_accuracy: 0.6571\n",
            "Epoch 54/60\n",
            "180/180 [==============================] - 54s 300ms/step - loss: 0.6945 - accuracy: 0.7408 - val_loss: 1.1075 - val_accuracy: 0.6201\n",
            "Epoch 55/60\n",
            "180/180 [==============================] - 53s 292ms/step - loss: 0.6954 - accuracy: 0.7383 - val_loss: 1.0556 - val_accuracy: 0.6390\n",
            "Epoch 56/60\n",
            "180/180 [==============================] - 56s 309ms/step - loss: 0.6937 - accuracy: 0.7425 - val_loss: 1.0973 - val_accuracy: 0.6494\n",
            "Epoch 57/60\n",
            "180/180 [==============================] - 51s 284ms/step - loss: 0.6938 - accuracy: 0.7412 - val_loss: 1.0792 - val_accuracy: 0.6466\n",
            "Epoch 58/60\n",
            "180/180 [==============================] - 55s 307ms/step - loss: 0.6656 - accuracy: 0.7491 - val_loss: 1.0580 - val_accuracy: 0.6515\n",
            "Epoch 59/60\n",
            "180/180 [==============================] - 57s 319ms/step - loss: 0.6568 - accuracy: 0.7594 - val_loss: 1.0869 - val_accuracy: 0.6432\n",
            "Epoch 60/60\n",
            "180/180 [==============================] - 51s 285ms/step - loss: 0.6589 - accuracy: 0.7584 - val_loss: 1.1394 - val_accuracy: 0.6453\n"
          ],
          "name": "stdout"
        }
      ]
    },
    {
      "cell_type": "code",
      "metadata": {
        "id": "ERI1pVefNjBv",
        "colab": {
          "base_uri": "https://localhost:8080/",
          "height": 295
        },
        "outputId": "cce3d14c-a624-4524-a344-54f899893c47"
      },
      "source": [
        "fig , ax = plt.subplots(1,2)\n",
        "train_acc = history.history['accuracy']\n",
        "train_loss = history.history['loss']\n",
        "fig.set_size_inches(12,4)\n",
        "\n",
        "ax[0].plot(history.history['accuracy'])\n",
        "ax[0].plot(history.history['val_accuracy'])\n",
        "ax[0].set_title('Training Accuracy vs Validation Accuracy')\n",
        "ax[0].set_ylabel('Accuracy')\n",
        "ax[0].set_xlabel('Epoch')\n",
        "ax[0].legend(['Train', 'Validation'], loc='upper left')\n",
        "\n",
        "ax[1].plot(history.history['loss'])\n",
        "ax[1].plot(history.history['val_loss'])\n",
        "ax[1].set_title('Training Loss vs Validation Loss')\n",
        "ax[1].set_ylabel('Loss')\n",
        "ax[1].set_xlabel('Epoch')\n",
        "ax[1].legend(['Train', 'Validation'], loc='upper left')\n",
        "\n",
        "plt.show()"
      ],
      "execution_count": 53,
      "outputs": [
        {
          "output_type": "display_data",
          "data": {
            "image/png": "[encoded data removed]",
            "text/plain": [
              "<Figure size 864x288 with 2 Axes>"
            ]
          },
          "metadata": {
            "tags": [],
            "needs_background": "light"
          }
        }
      ]
    },
    {
      "cell_type": "code",
      "metadata": {
        "id": "v2QuP7FwFk6Q"
      },
      "source": [
        "model.save('model_optimal.h5')"
      ],
      "execution_count": 54,
      "outputs": []
    },
    {
      "cell_type": "code",
      "metadata": {
        "colab": {
          "base_uri": "https://localhost:8080/",
          "height": 284
        },
        "id": "8npUXftBmGrk",
        "outputId": "46d73dce-b8b3-4451-eee4-d9bf1fb307e7"
      },
      "source": [
        "img = image.load_img(\"image_dataset/test/happy/im87.png\",target_size = (48,48),color_mode = \"grayscale\")\n",
        "img = np.array(img)\n",
        "plt.imshow(img)\n",
        "print(img.shape) #prints (48,48) that is the shape of our image"
      ],
      "execution_count": 64,
      "outputs": [
        {
          "output_type": "stream",
          "text": [
            "(48, 48)\n"
          ],
          "name": "stdout"
        },
        {
          "output_type": "display_data",
          "data": {
            "image/png": "[encoded data removed]",
            "text/plain": [
              "<Figure size 432x288 with 1 Axes>"
            ]
          },
          "metadata": {
            "tags": [],
            "needs_background": "light"
          }
        }
      ]
    },
    {
      "cell_type": "code",
      "metadata": {
        "id": "VbNIJs8LmKqR"
      },
      "source": [
        "label_dict = {0:'Angry',1:'Disgust',2:'Fear',3:'Happy',4:'Neutral',5:'Sad',6:'Surprise'}"
      ],
      "execution_count": 65,
      "outputs": []
    },
    {
      "cell_type": "code",
      "metadata": {
        "colab": {
          "base_uri": "https://localhost:8080/"
        },
        "id": "vcvjbokGmMLh",
        "outputId": "cc380c1b-8bbe-418e-b050-4f6512b57fdf"
      },
      "source": [
        "img = np.expand_dims(img,axis = 0) #makes image shape (1,48,48)\n",
        "img = img.reshape(1,48,48,1)\n",
        "result = model.predict(img)\n",
        "result = list(result[0])\n",
        "print(result)"
      ],
      "execution_count": 66,
      "outputs": [
        {
          "output_type": "stream",
          "text": [
            "[1.0, 0.0, 0.0, 0.0, 0.0, 0.0, 0.0]\n"
          ],
          "name": "stdout"
        }
      ]
    },
    {
      "cell_type": "code",
      "metadata": {
        "colab": {
          "base_uri": "https://localhost:8080/"
        },
        "id": "Heww_rDfmNv2",
        "outputId": "66a9de7e-bb2d-4781-e7da-8cd1cb421287"
      },
      "source": [
        "img_index = result.index(max(result))\n",
        "print(label_dict[img_index])\n",
        "plt.show()"
      ],
      "execution_count": 67,
      "outputs": [
        {
          "output_type": "stream",
          "text": [
            "Angry\n"
          ],
          "name": "stdout"
        }
      ]
    },
    {
      "cell_type": "code",
      "metadata": {
        "colab": {
          "base_uri": "https://localhost:8080/"
        },
        "id": "RQKm86NPmPCC",
        "outputId": "13a76c88-0c7b-4814-d13e-31776f222518"
      },
      "source": [
        "train_loss, train_acc = model.evaluate(train_generator)\n",
        "test_loss, test_acc   = model.evaluate(validation_generator)\n",
        "print(\"final train accuracy = {:.2f} , validation accuracy = {:.2f}\".format(train_acc*100, test_acc*100))"
      ],
      "execution_count": 68,
      "outputs": [
        {
          "output_type": "stream",
          "text": [
            "180/180 [==============================] - 22s 122ms/step - loss: 0.7087 - accuracy: 0.7386\n",
            "12/12 [==============================] - 1s 80ms/step - loss: 1.1394 - accuracy: 0.6453\n",
            "final train accuracy = 73.86 , validation accuracy = 64.53\n"
          ],
          "name": "stdout"
        }
      ]
    },
    {
      "cell_type": "code",
      "metadata": {
        "id": "kYUZeIenmQWt"
      },
      "source": [
        "model.save_weights('model_weights.h5')"
      ],
      "execution_count": 69,
      "outputs": []
    }
  ]
}