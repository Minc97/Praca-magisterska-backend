{
  "nbformat": 4,
  "nbformat_minor": 0,
  "metadata": {
    "colab": {
      "name": "Emotions-recogniction.ipynb",
      "provenance": [],
      "collapsed_sections": [],
      "authorship_tag": "ABX9TyOga8hXYqTQRJ5/v5QRNeky",
      "include_colab_link": true
    },
    "kernelspec": {
      "name": "python3",
      "display_name": "Python 3"
    },
    "language_info": {
      "name": "python"
    },
    "accelerator": "GPU"
  },
  "cells": [
    {
      "cell_type": "markdown",
      "metadata": {
        "id": "view-in-github",
        "colab_type": "text"
      },
      "source": [
        "<a href=\"https://colab.research.google.com/github/Minc97/Praca-magisterska-backend/blob/master/Emotions_recogniction.ipynb\" target=\"_parent\"><img src=\"https://colab.research.google.com/assets/colab-badge.svg\" alt=\"Open In Colab\"/></a>"
      ]
    },
    {
      "cell_type": "code",
      "metadata": {
        "id": "OIUV11onC8EE"
      },
      "source": [
        "import numpy as np \n",
        "import pandas as pd \n",
        "import os\n",
        "import matplotlib.pyplot as plt\n",
        "import seaborn as sns\n",
        "import tensorflow as tf\n",
        "import keras\n",
        "from keras.preprocessing import image\n",
        "from keras.models import Sequential\n",
        "from keras.layers import Conv2D, MaxPool2D, Flatten,Dense,Dropout,BatchNormalization, ZeroPadding2D, Convolution2D, MaxPooling2D, Activation\n",
        "from tensorflow.keras.preprocessing.image import ImageDataGenerator\n",
        "import cv2\n",
        "from tensorflow.keras.applications import VGG16, InceptionResNetV2\n",
        "from keras import regularizers\n",
        "from tensorflow.keras.optimizers import Adam,RMSprop,SGD,Adamax\n",
        "from zipfile import ZipFile\n",
        "\n"
      ],
      "execution_count": 39,
      "outputs": []
    },
    {
      "cell_type": "code",
      "metadata": {
        "id": "EhlwXTVoDW7u",
        "colab": {
          "base_uri": "https://localhost:8080/"
        },
        "outputId": "7d559256-6620-4f06-b262-c48f350761af"
      },
      "source": [
        "!gdown 'https://drive.google.com/uc?id=17J5FbFqnkdzrTbMuEMrRUiJrvHB4BUZv' -O image_dataset.zip\n",
        "\n",
        "!mkdir -p image_dataset\n",
        "\n",
        "with ZipFile('image_dataset.zip', 'r') as zip:\n",
        "    zip.extractall('image_dataset')\n",
        "\n",
        "!rm image_dataset.zip"
      ],
      "execution_count": 2,
      "outputs": [
        {
          "output_type": "stream",
          "text": [
            "Downloading...\n",
            "From: https://drive.google.com/uc?id=17J5FbFqnkdzrTbMuEMrRUiJrvHB4BUZv\n",
            "To: /content/image_dataset.zip\n",
            "68.3MB [00:01, 67.3MB/s]\n"
          ],
          "name": "stdout"
        }
      ]
    },
    {
      "cell_type": "code",
      "metadata": {
        "id": "J-eooIP6Ed7S"
      },
      "source": [
        "train_dir = \"image_dataset/train\" \n",
        "test_dir = \"image_dataset/test\"  \n",
        "img_size = 48\n",
        "num_classes = 7"
      ],
      "execution_count": 187,
      "outputs": []
    },
    {
      "cell_type": "code",
      "metadata": {
        "id": "2XfajH68E728"
      },
      "source": [
        "train_datagen = ImageDataGenerator( #rotation_range = 120,\n",
        "                                         width_shift_range = 0.2,\n",
        "                                         height_shift_range = 0.2,\n",
        "                                         horizontal_flip = True,\n",
        "                                         rescale = 1./255,\n",
        "                                         zoom_range = 0.2,\n",
        "                                         validation_split = 0.2\n",
        "                                        )\n",
        "\n",
        "validation_datagen = ImageDataGenerator(rescale = 1./255,\n",
        "                                         validation_split = 0.2)"
      ],
      "execution_count": 189,
      "outputs": []
    },
    {
      "cell_type": "code",
      "metadata": {
        "colab": {
          "base_uri": "https://localhost:8080/"
        },
        "id": "IMdN0r2XE_Im",
        "outputId": "4ef84602-2535-43e6-8b9d-5fcc901f9ec3"
      },
      "source": [
        "train_generator = train_datagen.flow_from_directory(directory = train_dir,\n",
        "                                                    target_size = (img_size,img_size),\n",
        "                                                    batch_size = 128,\n",
        "                                                    color_mode = \"grayscale\",\n",
        "                                                    class_mode = \"categorical\",\n",
        "                                                    subset = \"training\"\n",
        "                                                   )\n",
        "validation_generator = validation_datagen.flow_from_directory( directory = test_dir,\n",
        "                                                              target_size = (img_size,img_size),\n",
        "                                                              batch_size = 128,\n",
        "                                                              color_mode = \"grayscale\",\n",
        "                                                              class_mode = \"categorical\",\n",
        "                                                              subset = \"validation\"\n",
        "                                                             )"
      ],
      "execution_count": 190,
      "outputs": [
        {
          "output_type": "stream",
          "text": [
            "Found 22968 images belonging to 7 classes.\n",
            "Found 1432 images belonging to 7 classes.\n"
          ],
          "name": "stdout"
        }
      ]
    },
    {
      "cell_type": "code",
      "metadata": {
        "id": "rmItqsDxFFFs"
      },
      "source": [
        "model= tf.keras.models.Sequential()\n",
        "\n",
        "\n",
        "model.add(Conv2D(8, kernel_size=(3, 3), padding='same', activation='relu', input_shape=(48, 48,1)))\n",
        "model.add(Conv2D(16,(3,3), padding='same', activation='relu' ))\n",
        "model.add(BatchNormalization())\n",
        "model.add(MaxPool2D(pool_size=(2, 2)))\n",
        "model.add(Dropout(0.25))\n",
        "\n",
        "model.add(Conv2D(32,(3,3), padding='same', activation='relu'))\n",
        "model.add(BatchNormalization())\n",
        "model.add(MaxPool2D(pool_size=(2, 2)))\n",
        "model.add(Dropout(0.25))\n",
        "\n",
        "model.add(Conv2D(64,(3,3), padding='same', activation='relu'))\n",
        "model.add(BatchNormalization())\n",
        "model.add(MaxPool2D(pool_size=(2, 2)))\n",
        "model.add(Dropout(0.25))\n",
        "\n",
        "model.add(Conv2D(128,(3,3), padding='same', activation='relu'))\n",
        "model.add(BatchNormalization())\n",
        "model.add(MaxPool2D(pool_size=(2, 2)))\n",
        "model.add(Dropout(0.25))\n",
        "\n",
        "model.add(Conv2D(256,(3,3), padding='same', activation='relu'))\n",
        "model.add(BatchNormalization())\n",
        "model.add(MaxPool2D(pool_size=(2, 2)))\n",
        "model.add(Dropout(0.25))\n",
        "\n",
        "model.add(Flatten()) \n",
        "model.add(Dense(1600,activation='relu', kernel_regularizer=regularizers.l2(0.001)))\n",
        "model.add(Dense(400,activation = 'relu', kernel_regularizer=regularizers.l2(0.001)))\n",
        "model.add(Dense(64,activation = 'relu', kernel_regularizer=regularizers.l2(0.001)))\n",
        "model.add(Dense(7, activation='softmax', kernel_regularizer=regularizers.l2(0.001)))\n",
        "\n",
        "model.compile(\n",
        "    optimizer = Adam(lr=0.0001), \n",
        "    loss='categorical_crossentropy', \n",
        "    metrics=['accuracy']\n",
        "  )"
      ],
      "execution_count": 191,
      "outputs": []
    },
    {
      "cell_type": "code",
      "metadata": {
        "id": "luwnBfGpFYzq"
      },
      "source": [
        "epochs = 60\n",
        "batch_size = 64"
      ],
      "execution_count": 192,
      "outputs": []
    },
    {
      "cell_type": "code",
      "metadata": {
        "colab": {
          "base_uri": "https://localhost:8080/"
        },
        "id": "PcFrGDm5FdMg",
        "outputId": "486fa453-19a8-4483-bd1f-abb90df65d6a"
      },
      "source": [
        "model.summary()"
      ],
      "execution_count": 193,
      "outputs": [
        {
          "output_type": "stream",
          "text": [
            "Model: \"sequential_33\"\n",
            "_________________________________________________________________\n",
            "Layer (type)                 Output Shape              Param #   \n",
            "=================================================================\n",
            "conv2d_257 (Conv2D)          (None, 48, 48, 8)         80        \n",
            "_________________________________________________________________\n",
            "conv2d_258 (Conv2D)          (None, 48, 48, 16)        1168      \n",
            "_________________________________________________________________\n",
            "batch_normalization_78 (Batc (None, 48, 48, 16)        64        \n",
            "_________________________________________________________________\n",
            "max_pooling2d_145 (MaxPoolin (None, 24, 24, 16)        0         \n",
            "_________________________________________________________________\n",
            "dropout_84 (Dropout)         (None, 24, 24, 16)        0         \n",
            "_________________________________________________________________\n",
            "conv2d_259 (Conv2D)          (None, 24, 24, 32)        4640      \n",
            "_________________________________________________________________\n",
            "batch_normalization_79 (Batc (None, 24, 24, 32)        128       \n",
            "_________________________________________________________________\n",
            "max_pooling2d_146 (MaxPoolin (None, 12, 12, 32)        0         \n",
            "_________________________________________________________________\n",
            "dropout_85 (Dropout)         (None, 12, 12, 32)        0         \n",
            "_________________________________________________________________\n",
            "conv2d_260 (Conv2D)          (None, 12, 12, 64)        18496     \n",
            "_________________________________________________________________\n",
            "batch_normalization_80 (Batc (None, 12, 12, 64)        256       \n",
            "_________________________________________________________________\n",
            "max_pooling2d_147 (MaxPoolin (None, 6, 6, 64)          0         \n",
            "_________________________________________________________________\n",
            "dropout_86 (Dropout)         (None, 6, 6, 64)          0         \n",
            "_________________________________________________________________\n",
            "conv2d_261 (Conv2D)          (None, 6, 6, 128)         73856     \n",
            "_________________________________________________________________\n",
            "batch_normalization_81 (Batc (None, 6, 6, 128)         512       \n",
            "_________________________________________________________________\n",
            "max_pooling2d_148 (MaxPoolin (None, 3, 3, 128)         0         \n",
            "_________________________________________________________________\n",
            "dropout_87 (Dropout)         (None, 3, 3, 128)         0         \n",
            "_________________________________________________________________\n",
            "conv2d_262 (Conv2D)          (None, 3, 3, 256)         295168    \n",
            "_________________________________________________________________\n",
            "batch_normalization_82 (Batc (None, 3, 3, 256)         1024      \n",
            "_________________________________________________________________\n",
            "max_pooling2d_149 (MaxPoolin (None, 1, 1, 256)         0         \n",
            "_________________________________________________________________\n",
            "dropout_88 (Dropout)         (None, 1, 1, 256)         0         \n",
            "_________________________________________________________________\n",
            "flatten_21 (Flatten)         (None, 256)               0         \n",
            "_________________________________________________________________\n",
            "dense_53 (Dense)             (None, 1600)              411200    \n",
            "_________________________________________________________________\n",
            "dense_54 (Dense)             (None, 400)               640400    \n",
            "_________________________________________________________________\n",
            "dense_55 (Dense)             (None, 64)                25664     \n",
            "_________________________________________________________________\n",
            "dense_56 (Dense)             (None, 7)                 455       \n",
            "=================================================================\n",
            "Total params: 1,473,111\n",
            "Trainable params: 1,472,119\n",
            "Non-trainable params: 992\n",
            "_________________________________________________________________\n"
          ],
          "name": "stdout"
        }
      ]
    },
    {
      "cell_type": "code",
      "metadata": {
        "id": "VbPhVr4oFfUk",
        "colab": {
          "base_uri": "https://localhost:8080/"
        },
        "outputId": "b6697b3b-d73e-4ab3-cb95-c8562b4fabd9"
      },
      "source": [
        "history = model.fit(x = train_generator,epochs = epochs, validation_data = validation_generator)"
      ],
      "execution_count": 194,
      "outputs": [
        {
          "output_type": "stream",
          "text": [
            "Epoch 1/60\n",
            "180/180 [==============================] - 17s 86ms/step - loss: 3.0229 - accuracy: 0.2236 - val_loss: 2.9741 - val_accuracy: 0.2472\n",
            "Epoch 2/60\n",
            "180/180 [==============================] - 15s 85ms/step - loss: 2.8815 - accuracy: 0.2508 - val_loss: 2.8926 - val_accuracy: 0.2479\n",
            "Epoch 3/60\n",
            "180/180 [==============================] - 15s 84ms/step - loss: 2.7894 - accuracy: 0.2562 - val_loss: 2.7640 - val_accuracy: 0.2493\n",
            "Epoch 4/60\n",
            "180/180 [==============================] - 15s 84ms/step - loss: 2.6951 - accuracy: 0.2562 - val_loss: 2.6286 - val_accuracy: 0.2584\n",
            "Epoch 5/60\n",
            "180/180 [==============================] - 15s 85ms/step - loss: 2.6110 - accuracy: 0.2656 - val_loss: 2.5473 - val_accuracy: 0.2661\n",
            "Epoch 6/60\n",
            "180/180 [==============================] - 15s 83ms/step - loss: 2.5292 - accuracy: 0.2702 - val_loss: 2.4531 - val_accuracy: 0.2800\n",
            "Epoch 7/60\n",
            "180/180 [==============================] - 15s 83ms/step - loss: 2.4575 - accuracy: 0.2678 - val_loss: 2.3791 - val_accuracy: 0.2849\n",
            "Epoch 8/60\n",
            "180/180 [==============================] - 15s 83ms/step - loss: 2.3890 - accuracy: 0.2767 - val_loss: 2.3100 - val_accuracy: 0.2954\n",
            "Epoch 9/60\n",
            "180/180 [==============================] - 15s 83ms/step - loss: 2.3211 - accuracy: 0.2798 - val_loss: 2.2509 - val_accuracy: 0.3080\n",
            "Epoch 10/60\n",
            "180/180 [==============================] - 15s 84ms/step - loss: 2.2522 - accuracy: 0.2883 - val_loss: 2.1850 - val_accuracy: 0.3024\n",
            "Epoch 11/60\n",
            "180/180 [==============================] - 15s 83ms/step - loss: 2.2099 - accuracy: 0.2826 - val_loss: 2.1405 - val_accuracy: 0.3010\n",
            "Epoch 12/60\n",
            "180/180 [==============================] - 15s 85ms/step - loss: 2.1484 - accuracy: 0.2970 - val_loss: 2.0642 - val_accuracy: 0.3289\n",
            "Epoch 13/60\n",
            "180/180 [==============================] - 15s 84ms/step - loss: 2.1084 - accuracy: 0.3022 - val_loss: 1.9905 - val_accuracy: 0.3415\n",
            "Epoch 14/60\n",
            "180/180 [==============================] - 15s 85ms/step - loss: 2.0554 - accuracy: 0.3091 - val_loss: 1.9641 - val_accuracy: 0.3499\n",
            "Epoch 15/60\n",
            "180/180 [==============================] - 15s 86ms/step - loss: 1.9993 - accuracy: 0.3241 - val_loss: 1.9267 - val_accuracy: 0.3485\n",
            "Epoch 16/60\n",
            "180/180 [==============================] - 16s 89ms/step - loss: 1.9600 - accuracy: 0.3373 - val_loss: 1.8489 - val_accuracy: 0.3652\n",
            "Epoch 17/60\n",
            "180/180 [==============================] - 16s 89ms/step - loss: 1.9252 - accuracy: 0.3376 - val_loss: 1.9565 - val_accuracy: 0.3282\n",
            "Epoch 18/60\n",
            "180/180 [==============================] - 16s 89ms/step - loss: 1.8883 - accuracy: 0.3460 - val_loss: 1.7927 - val_accuracy: 0.3764\n",
            "Epoch 19/60\n",
            "180/180 [==============================] - 15s 85ms/step - loss: 1.8469 - accuracy: 0.3596 - val_loss: 1.7411 - val_accuracy: 0.3897\n",
            "Epoch 20/60\n",
            "180/180 [==============================] - 15s 84ms/step - loss: 1.8223 - accuracy: 0.3555 - val_loss: 1.6874 - val_accuracy: 0.4029\n",
            "Epoch 21/60\n",
            "180/180 [==============================] - 15s 84ms/step - loss: 1.7873 - accuracy: 0.3660 - val_loss: 1.6794 - val_accuracy: 0.4050\n",
            "Epoch 22/60\n",
            "180/180 [==============================] - 15s 85ms/step - loss: 1.7518 - accuracy: 0.3768 - val_loss: 1.6342 - val_accuracy: 0.4106\n",
            "Epoch 23/60\n",
            "180/180 [==============================] - 15s 85ms/step - loss: 1.7421 - accuracy: 0.3726 - val_loss: 1.6209 - val_accuracy: 0.4183\n",
            "Epoch 24/60\n",
            "180/180 [==============================] - 15s 84ms/step - loss: 1.7123 - accuracy: 0.3817 - val_loss: 1.6260 - val_accuracy: 0.4134\n",
            "Epoch 25/60\n",
            "180/180 [==============================] - 15s 84ms/step - loss: 1.6866 - accuracy: 0.3905 - val_loss: 1.5774 - val_accuracy: 0.4260\n",
            "Epoch 26/60\n",
            "180/180 [==============================] - 15s 83ms/step - loss: 1.6666 - accuracy: 0.3989 - val_loss: 1.5726 - val_accuracy: 0.4190\n",
            "Epoch 27/60\n",
            "180/180 [==============================] - 15s 84ms/step - loss: 1.6609 - accuracy: 0.3995 - val_loss: 1.5180 - val_accuracy: 0.4539\n",
            "Epoch 28/60\n",
            "180/180 [==============================] - 15s 83ms/step - loss: 1.6218 - accuracy: 0.4101 - val_loss: 1.5088 - val_accuracy: 0.4518\n",
            "Epoch 29/60\n",
            "180/180 [==============================] - 15s 83ms/step - loss: 1.6201 - accuracy: 0.4062 - val_loss: 1.5002 - val_accuracy: 0.4567\n",
            "Epoch 30/60\n",
            "180/180 [==============================] - 15s 83ms/step - loss: 1.5999 - accuracy: 0.4139 - val_loss: 1.5085 - val_accuracy: 0.4406\n",
            "Epoch 31/60\n",
            "180/180 [==============================] - 15s 83ms/step - loss: 1.5897 - accuracy: 0.4157 - val_loss: 1.5019 - val_accuracy: 0.4546\n",
            "Epoch 32/60\n",
            "180/180 [==============================] - 15s 83ms/step - loss: 1.5779 - accuracy: 0.4169 - val_loss: 1.4394 - val_accuracy: 0.4742\n",
            "Epoch 33/60\n",
            "180/180 [==============================] - 15s 84ms/step - loss: 1.5586 - accuracy: 0.4224 - val_loss: 1.4633 - val_accuracy: 0.4518\n",
            "Epoch 34/60\n",
            "180/180 [==============================] - 15s 83ms/step - loss: 1.5517 - accuracy: 0.4277 - val_loss: 1.4383 - val_accuracy: 0.4749\n",
            "Epoch 35/60\n",
            "180/180 [==============================] - 15s 83ms/step - loss: 1.5307 - accuracy: 0.4324 - val_loss: 1.4127 - val_accuracy: 0.4763\n",
            "Epoch 36/60\n",
            "180/180 [==============================] - 15s 84ms/step - loss: 1.5195 - accuracy: 0.4427 - val_loss: 1.3901 - val_accuracy: 0.4916\n",
            "Epoch 37/60\n",
            "180/180 [==============================] - 15s 83ms/step - loss: 1.5131 - accuracy: 0.4403 - val_loss: 1.3981 - val_accuracy: 0.4791\n",
            "Epoch 38/60\n",
            "180/180 [==============================] - 15s 84ms/step - loss: 1.5050 - accuracy: 0.4418 - val_loss: 1.3652 - val_accuracy: 0.5042\n",
            "Epoch 39/60\n",
            "180/180 [==============================] - 15s 83ms/step - loss: 1.5060 - accuracy: 0.4401 - val_loss: 1.3649 - val_accuracy: 0.4965\n",
            "Epoch 40/60\n",
            "180/180 [==============================] - 15s 83ms/step - loss: 1.4906 - accuracy: 0.4488 - val_loss: 1.3429 - val_accuracy: 0.5049\n",
            "Epoch 41/60\n",
            "180/180 [==============================] - 15s 83ms/step - loss: 1.4789 - accuracy: 0.4512 - val_loss: 1.3466 - val_accuracy: 0.5000\n",
            "Epoch 42/60\n",
            "180/180 [==============================] - 15s 83ms/step - loss: 1.4671 - accuracy: 0.4553 - val_loss: 1.3342 - val_accuracy: 0.4965\n",
            "Epoch 43/60\n",
            "180/180 [==============================] - 15s 83ms/step - loss: 1.4638 - accuracy: 0.4501 - val_loss: 1.3449 - val_accuracy: 0.4986\n",
            "Epoch 44/60\n",
            "180/180 [==============================] - 15s 83ms/step - loss: 1.4505 - accuracy: 0.4625 - val_loss: 1.3308 - val_accuracy: 0.5112\n",
            "Epoch 45/60\n",
            "180/180 [==============================] - 15s 83ms/step - loss: 1.4503 - accuracy: 0.4562 - val_loss: 1.3232 - val_accuracy: 0.5168\n",
            "Epoch 46/60\n",
            "180/180 [==============================] - 15s 83ms/step - loss: 1.4363 - accuracy: 0.4693 - val_loss: 1.3042 - val_accuracy: 0.5133\n",
            "Epoch 47/60\n",
            "180/180 [==============================] - 15s 83ms/step - loss: 1.4338 - accuracy: 0.4636 - val_loss: 1.3262 - val_accuracy: 0.4951\n",
            "Epoch 48/60\n",
            "180/180 [==============================] - 15s 83ms/step - loss: 1.4376 - accuracy: 0.4669 - val_loss: 1.3011 - val_accuracy: 0.5084\n",
            "Epoch 49/60\n",
            "180/180 [==============================] - 15s 83ms/step - loss: 1.4188 - accuracy: 0.4716 - val_loss: 1.3030 - val_accuracy: 0.5070\n",
            "Epoch 50/60\n",
            "180/180 [==============================] - 15s 83ms/step - loss: 1.4193 - accuracy: 0.4669 - val_loss: 1.2825 - val_accuracy: 0.5286\n",
            "Epoch 51/60\n",
            "180/180 [==============================] - 15s 83ms/step - loss: 1.4114 - accuracy: 0.4763 - val_loss: 1.2862 - val_accuracy: 0.5189\n",
            "Epoch 52/60\n",
            "180/180 [==============================] - 15s 82ms/step - loss: 1.4134 - accuracy: 0.4728 - val_loss: 1.2618 - val_accuracy: 0.5307\n",
            "Epoch 53/60\n",
            "180/180 [==============================] - 15s 83ms/step - loss: 1.4039 - accuracy: 0.4711 - val_loss: 1.2818 - val_accuracy: 0.5265\n",
            "Epoch 54/60\n",
            "180/180 [==============================] - 15s 83ms/step - loss: 1.4082 - accuracy: 0.4703 - val_loss: 1.2465 - val_accuracy: 0.5300\n",
            "Epoch 55/60\n",
            "180/180 [==============================] - 15s 83ms/step - loss: 1.3936 - accuracy: 0.4757 - val_loss: 1.2634 - val_accuracy: 0.5321\n",
            "Epoch 56/60\n",
            "180/180 [==============================] - 15s 83ms/step - loss: 1.3932 - accuracy: 0.4775 - val_loss: 1.2580 - val_accuracy: 0.5279\n",
            "Epoch 57/60\n",
            "180/180 [==============================] - 15s 83ms/step - loss: 1.3869 - accuracy: 0.4777 - val_loss: 1.2446 - val_accuracy: 0.5398\n",
            "Epoch 58/60\n",
            "180/180 [==============================] - 15s 83ms/step - loss: 1.3767 - accuracy: 0.4854 - val_loss: 1.2752 - val_accuracy: 0.5272\n",
            "Epoch 59/60\n",
            "180/180 [==============================] - 15s 82ms/step - loss: 1.3798 - accuracy: 0.4840 - val_loss: 1.2321 - val_accuracy: 0.5363\n",
            "Epoch 60/60\n",
            "180/180 [==============================] - 15s 82ms/step - loss: 1.3716 - accuracy: 0.4840 - val_loss: 1.2178 - val_accuracy: 0.5573\n"
          ],
          "name": "stdout"
        }
      ]
    },
    {
      "cell_type": "code",
      "metadata": {
        "id": "ERI1pVefNjBv",
        "colab": {
          "base_uri": "https://localhost:8080/",
          "height": 295
        },
        "outputId": "290b39a6-4302-43f5-843e-fe765603f68b"
      },
      "source": [
        "fig , ax = plt.subplots(1,2)\n",
        "train_acc = history.history['accuracy']\n",
        "train_loss = history.history['loss']\n",
        "fig.set_size_inches(12,4)\n",
        "\n",
        "ax[0].plot(history.history['accuracy'])\n",
        "ax[0].plot(history.history['val_accuracy'])\n",
        "ax[0].set_title('Training Accuracy vs Validation Accuracy')\n",
        "ax[0].set_ylabel('Accuracy')\n",
        "ax[0].set_xlabel('Epoch')\n",
        "ax[0].legend(['Train', 'Validation'], loc='upper left')\n",
        "\n",
        "ax[1].plot(history.history['loss'])\n",
        "ax[1].plot(history.history['val_loss'])\n",
        "ax[1].set_title('Training Loss vs Validation Loss')\n",
        "ax[1].set_ylabel('Loss')\n",
        "ax[1].set_xlabel('Epoch')\n",
        "ax[1].legend(['Train', 'Validation'], loc='upper left')\n",
        "\n",
        "plt.show()"
      ],
      "execution_count": 94,
      "outputs": [
        {
          "output_type": "display_data",
          "data": {
            "image/png": "[encoded data removed]",
            "text/plain": [
              "<Figure size 864x288 with 2 Axes>"
            ]
          },
          "metadata": {
            "tags": [],
            "needs_background": "light"
          }
        }
      ]
    },
    {
      "cell_type": "code",
      "metadata": {
        "id": "v2QuP7FwFk6Q"
      },
      "source": [
        "model.save('model_optimal.h5')"
      ],
      "execution_count": 107,
      "outputs": []
    },
    {
      "cell_type": "code",
      "metadata": {
        "colab": {
          "base_uri": "https://localhost:8080/",
          "height": 284
        },
        "id": "8npUXftBmGrk",
        "outputId": "1a535edf-6c21-4eea-87fa-e4d348052643"
      },
      "source": [
        "img = image.load_img(\"image_dataset/test/angry/im87.png\",target_size = (48,48),color_mode = \"grayscale\")\n",
        "img = np.array(img)\n",
        "plt.imshow(img)\n",
        "print(img.shape) #prints (48,48) that is the shape of our image"
      ],
      "execution_count": 159,
      "outputs": [
        {
          "output_type": "stream",
          "text": [
            "(48, 48)\n"
          ],
          "name": "stdout"
        },
        {
          "output_type": "display_data",
          "data": {
            "image/png": "[encoded data removed]",
            "text/plain": [
              "<Figure size 432x288 with 1 Axes>"
            ]
          },
          "metadata": {
            "tags": [],
            "needs_background": "light"
          }
        }
      ]
    },
    {
      "cell_type": "code",
      "metadata": {
        "id": "VbNIJs8LmKqR"
      },
      "source": [
        "label_dict = {0:'Angry',1:'Disgust',2:'Fear',3:'Happy',4:'Neutral',5:'Sad',6:'Surprise'}"
      ],
      "execution_count": 160,
      "outputs": []
    },
    {
      "cell_type": "code",
      "metadata": {
        "colab": {
          "base_uri": "https://localhost:8080/"
        },
        "id": "vcvjbokGmMLh",
        "outputId": "1188f91e-eee6-4838-9433-649a198b72de"
      },
      "source": [
        "img = np.expand_dims(img,axis = 0) #makes image shape (1,48,48)\n",
        "img = img.reshape(1,48,48,1)\n",
        "result = model.predict(img)\n",
        "result = list(result[0])\n",
        "print(result)"
      ],
      "execution_count": 161,
      "outputs": [
        {
          "output_type": "stream",
          "text": [
            "[3.0677162e-07, 0.0, 0.99999964, 3.9374864e-18, 0.0, 0.0, 1.0565073e-32]\n"
          ],
          "name": "stdout"
        }
      ]
    },
    {
      "cell_type": "code",
      "metadata": {
        "colab": {
          "base_uri": "https://localhost:8080/"
        },
        "id": "Heww_rDfmNv2",
        "outputId": "134ef72d-c731-416d-c6fa-ca0d30992b3e"
      },
      "source": [
        "img_index = result.index(max(result))\n",
        "print(label_dict[img_index])\n",
        "plt.show()"
      ],
      "execution_count": 162,
      "outputs": [
        {
          "output_type": "stream",
          "text": [
            "Fear\n"
          ],
          "name": "stdout"
        }
      ]
    },
    {
      "cell_type": "code",
      "metadata": {
        "colab": {
          "base_uri": "https://localhost:8080/"
        },
        "id": "RQKm86NPmPCC",
        "outputId": "85f5a641-794f-478e-d2ab-3468d5cd359d"
      },
      "source": [
        "train_loss, train_acc = model.evaluate(train_generator)\n",
        "test_loss, test_acc   = model.evaluate(validation_generator)\n",
        "print(\"final train accuracy = {:.2f} , validation accuracy = {:.2f}\".format(train_acc*100, test_acc*100))"
      ],
      "execution_count": 163,
      "outputs": [
        {
          "output_type": "stream",
          "text": [
            "180/180 [==============================] - 14s 78ms/step - loss: 0.9119 - accuracy: 0.6494\n",
            "12/12 [==============================] - 0s 31ms/step - loss: 1.0263 - accuracy: 0.6194\n",
            "final train accuracy = 64.94 , validation accuracy = 61.94\n"
          ],
          "name": "stdout"
        }
      ]
    },
    {
      "cell_type": "code",
      "metadata": {
        "id": "kYUZeIenmQWt"
      },
      "source": [
        "model.save_weights('model_weights.h5')"
      ],
      "execution_count": 164,
      "outputs": []
    }
  ]
}