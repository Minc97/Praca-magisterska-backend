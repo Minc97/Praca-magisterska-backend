{
  "nbformat": 4,
  "nbformat_minor": 0,
  "metadata": {
    "colab": {
      "name": "Emotions-recogniction.ipynb",
      "provenance": [],
      "collapsed_sections": [],
      "authorship_tag": "ABX9TyNE99yRpGBjbWeDWJ0gpdBb",
      "include_colab_link": true
    },
    "kernelspec": {
      "name": "python3",
      "display_name": "Python 3"
    },
    "language_info": {
      "name": "python"
    },
    "accelerator": "GPU"
  },
  "cells": [
    {
      "cell_type": "markdown",
      "metadata": {
        "id": "view-in-github",
        "colab_type": "text"
      },
      "source": [
        "<a href=\"https://colab.research.google.com/github/Minc97/Praca-magisterska-backend/blob/master/Emotions_recogniction.ipynb\" target=\"_parent\"><img src=\"https://colab.research.google.com/assets/colab-badge.svg\" alt=\"Open In Colab\"/></a>"
      ]
    },
    {
      "cell_type": "code",
      "metadata": {
        "id": "OIUV11onC8EE"
      },
      "source": [
        "import numpy as np \n",
        "import pandas as pd \n",
        "import os\n",
        "import matplotlib.pyplot as plt\n",
        "import seaborn as sns\n",
        "import tensorflow as tf\n",
        "import keras\n",
        "from keras.preprocessing import image\n",
        "from keras.models import Sequential\n",
        "from keras.layers import Conv2D, MaxPool2D, Flatten,Dense,Dropout,BatchNormalization, ZeroPadding2D, Convolution2D, MaxPooling2D, Activation\n",
        "from tensorflow.keras.preprocessing.image import ImageDataGenerator\n",
        "import cv2\n",
        "from tensorflow.keras.applications import VGG16, InceptionResNetV2\n",
        "from keras import regularizers\n",
        "from tensorflow.keras.optimizers import Adam,RMSprop,SGD,Adamax\n",
        "from zipfile import ZipFile\n",
        "\n"
      ],
      "execution_count": 1,
      "outputs": []
    },
    {
      "cell_type": "code",
      "metadata": {
        "id": "EhlwXTVoDW7u",
        "colab": {
          "base_uri": "https://localhost:8080/"
        },
        "outputId": "b8a06a10-c5e2-429d-df8c-fcc67ba6d7a2"
      },
      "source": [
        "!gdown 'https://drive.google.com/uc?id=17J5FbFqnkdzrTbMuEMrRUiJrvHB4BUZv' -O image_dataset.zip\n",
        "\n",
        "!mkdir -p image_dataset\n",
        "\n",
        "with ZipFile('image_dataset.zip', 'r') as zip:\n",
        "    zip.extractall('image_dataset')\n",
        "\n",
        "!rm image_dataset.zip"
      ],
      "execution_count": 2,
      "outputs": [
        {
          "output_type": "stream",
          "text": [
            "Downloading...\n",
            "From: https://drive.google.com/uc?id=17J5FbFqnkdzrTbMuEMrRUiJrvHB4BUZv\n",
            "To: /content/image_dataset.zip\n",
            "68.3MB [00:00, 95.6MB/s]\n"
          ],
          "name": "stdout"
        }
      ]
    },
    {
      "cell_type": "code",
      "metadata": {
        "id": "J-eooIP6Ed7S"
      },
      "source": [
        "train_dir = \"image_dataset/train\" \n",
        "test_dir = \"image_dataset/test\"  \n",
        "img_size = 48\n",
        "num_classes = 7"
      ],
      "execution_count": 3,
      "outputs": []
    },
    {
      "cell_type": "code",
      "metadata": {
        "id": "2XfajH68E728"
      },
      "source": [
        "train_datagen = ImageDataGenerator( #rotation_range = 120,\n",
        "                                         width_shift_range = 0.2,\n",
        "                                         height_shift_range = 0.2,\n",
        "                                         horizontal_flip = True,\n",
        "                                         rescale = 1./255,\n",
        "                                         zoom_range = 0.2,\n",
        "                                         validation_split = 0.2\n",
        "                                        )\n",
        "\n",
        "validation_datagen = ImageDataGenerator(rescale = 1./255,\n",
        "                                         validation_split = 0.2)"
      ],
      "execution_count": 4,
      "outputs": []
    },
    {
      "cell_type": "code",
      "metadata": {
        "colab": {
          "base_uri": "https://localhost:8080/"
        },
        "id": "IMdN0r2XE_Im",
        "outputId": "462b86e0-7901-47da-8285-7dddaec45273"
      },
      "source": [
        "train_generator = train_datagen.flow_from_directory(directory = train_dir,\n",
        "                                                    target_size = (img_size,img_size),\n",
        "                                                    batch_size = 128,\n",
        "                                                    color_mode = \"grayscale\",\n",
        "                                                    class_mode = \"categorical\",\n",
        "                                                    subset = \"training\"\n",
        "                                                   )\n",
        "validation_generator = validation_datagen.flow_from_directory( directory = test_dir,\n",
        "                                                              target_size = (img_size,img_size),\n",
        "                                                              batch_size = 128,\n",
        "                                                              color_mode = \"grayscale\",\n",
        "                                                              class_mode = \"categorical\",\n",
        "                                                              subset = \"validation\"\n",
        "                                                             )"
      ],
      "execution_count": 5,
      "outputs": [
        {
          "output_type": "stream",
          "text": [
            "Found 22968 images belonging to 7 classes.\n",
            "Found 1432 images belonging to 7 classes.\n"
          ],
          "name": "stdout"
        }
      ]
    },
    {
      "cell_type": "code",
      "metadata": {
        "id": "rmItqsDxFFFs"
      },
      "source": [
        "model= tf.keras.models.Sequential()\n",
        "model.add(Conv2D(32, kernel_size=(3, 3), padding='same', activation='relu', input_shape=(48, 48, 1)))\n",
        "model.add(BatchNormalization())\n",
        "\n",
        "model.add(Conv2D(64, (3,3), padding='same', activation='relu' ))\n",
        "model.add(BatchNormalization())\n",
        "\n",
        "model.add(Conv2D(128, (4,4), padding='same', activation='relu' ))\n",
        "model.add(BatchNormalization())\n",
        "\n",
        "model.add(MaxPool2D(pool_size=(2, 2)))\n",
        "\n",
        "model.add(Conv2D(128, (4,4), padding='same', activation='relu' ))\n",
        "model.add(BatchNormalization())\n",
        "\n",
        "model.add(Conv2D(128, (4,4), padding='same', activation='relu' ))\n",
        "model.add(BatchNormalization())\n",
        "\n",
        "model.add(Conv2D(128, (4,4), padding='same', activation='relu' ))\n",
        "model.add(BatchNormalization())\n",
        "\n",
        "model.add(MaxPool2D(pool_size=(2, 2)))\n",
        "\n",
        "model.add(Conv2D(256, (4,4), padding='same', activation='relu' ))\n",
        "model.add(BatchNormalization())\n",
        "\n",
        "model.add(Conv2D(256, (4,4), padding='same', activation='relu' ))\n",
        "model.add(BatchNormalization())\n",
        "\n",
        "model.add(Conv2D(256, (4,4), padding='same', activation='relu' ))\n",
        "model.add(BatchNormalization())\n",
        "\n",
        "model.add(MaxPool2D(pool_size=(2, 2)))\n",
        "\n",
        "model.add(Conv2D(512, (4,4), padding='same', activation='relu' ))\n",
        "model.add(BatchNormalization())\n",
        "\n",
        "model.add(Conv2D(512, (4,4), padding='same', activation='relu' ))\n",
        "model.add(BatchNormalization())\n",
        "\n",
        "model.add(Conv2D(512, (4,4), padding='same', activation='relu' ))\n",
        "model.add(BatchNormalization())\n",
        "\n",
        "model.add(MaxPool2D(pool_size=(2, 2)))\n",
        "model.add(Dropout(0.5))\n",
        "\n",
        "model.add(Flatten()) \n",
        "model.add(Dense(400,activation = 'relu'))\n",
        "model.add(Dense(7, activation='softmax'))\n",
        "\n",
        "model.compile(\n",
        "    optimizer = Adam(lr=0.0001), \n",
        "    loss='categorical_crossentropy', \n",
        "    metrics=['accuracy']\n",
        "  )"
      ],
      "execution_count": 70,
      "outputs": []
    },
    {
      "cell_type": "code",
      "metadata": {
        "id": "luwnBfGpFYzq"
      },
      "source": [
        "epochs = 60\n",
        "batch_size = 64"
      ],
      "execution_count": 71,
      "outputs": []
    },
    {
      "cell_type": "code",
      "metadata": {
        "colab": {
          "base_uri": "https://localhost:8080/"
        },
        "id": "PcFrGDm5FdMg",
        "outputId": "46a086ea-f344-4e14-dc6a-cf002cadf1d9"
      },
      "source": [
        "model.summary()"
      ],
      "execution_count": 72,
      "outputs": [
        {
          "output_type": "stream",
          "text": [
            "Model: \"sequential_16\"\n",
            "_________________________________________________________________\n",
            "Layer (type)                 Output Shape              Param #   \n",
            "=================================================================\n",
            "conv2d_71 (Conv2D)           (None, 48, 48, 32)        320       \n",
            "_________________________________________________________________\n",
            "batch_normalization_59 (Batc (None, 48, 48, 32)        128       \n",
            "_________________________________________________________________\n",
            "conv2d_72 (Conv2D)           (None, 48, 48, 64)        18496     \n",
            "_________________________________________________________________\n",
            "batch_normalization_60 (Batc (None, 48, 48, 64)        256       \n",
            "_________________________________________________________________\n",
            "conv2d_73 (Conv2D)           (None, 48, 48, 128)       131200    \n",
            "_________________________________________________________________\n",
            "batch_normalization_61 (Batc (None, 48, 48, 128)       512       \n",
            "_________________________________________________________________\n",
            "max_pooling2d_54 (MaxPooling (None, 24, 24, 128)       0         \n",
            "_________________________________________________________________\n",
            "conv2d_74 (Conv2D)           (None, 24, 24, 128)       262272    \n",
            "_________________________________________________________________\n",
            "batch_normalization_62 (Batc (None, 24, 24, 128)       512       \n",
            "_________________________________________________________________\n",
            "conv2d_75 (Conv2D)           (None, 24, 24, 128)       262272    \n",
            "_________________________________________________________________\n",
            "batch_normalization_63 (Batc (None, 24, 24, 128)       512       \n",
            "_________________________________________________________________\n",
            "conv2d_76 (Conv2D)           (None, 24, 24, 128)       262272    \n",
            "_________________________________________________________________\n",
            "batch_normalization_64 (Batc (None, 24, 24, 128)       512       \n",
            "_________________________________________________________________\n",
            "max_pooling2d_55 (MaxPooling (None, 12, 12, 128)       0         \n",
            "_________________________________________________________________\n",
            "conv2d_77 (Conv2D)           (None, 12, 12, 256)       524544    \n",
            "_________________________________________________________________\n",
            "batch_normalization_65 (Batc (None, 12, 12, 256)       1024      \n",
            "_________________________________________________________________\n",
            "conv2d_78 (Conv2D)           (None, 12, 12, 256)       1048832   \n",
            "_________________________________________________________________\n",
            "batch_normalization_66 (Batc (None, 12, 12, 256)       1024      \n",
            "_________________________________________________________________\n",
            "conv2d_79 (Conv2D)           (None, 12, 12, 256)       1048832   \n",
            "_________________________________________________________________\n",
            "batch_normalization_67 (Batc (None, 12, 12, 256)       1024      \n",
            "_________________________________________________________________\n",
            "max_pooling2d_56 (MaxPooling (None, 6, 6, 256)         0         \n",
            "_________________________________________________________________\n",
            "conv2d_80 (Conv2D)           (None, 6, 6, 512)         2097664   \n",
            "_________________________________________________________________\n",
            "batch_normalization_68 (Batc (None, 6, 6, 512)         2048      \n",
            "_________________________________________________________________\n",
            "conv2d_81 (Conv2D)           (None, 6, 6, 512)         4194816   \n",
            "_________________________________________________________________\n",
            "batch_normalization_69 (Batc (None, 6, 6, 512)         2048      \n",
            "_________________________________________________________________\n",
            "conv2d_82 (Conv2D)           (None, 6, 6, 512)         4194816   \n",
            "_________________________________________________________________\n",
            "batch_normalization_70 (Batc (None, 6, 6, 512)         2048      \n",
            "_________________________________________________________________\n",
            "max_pooling2d_57 (MaxPooling (None, 3, 3, 512)         0         \n",
            "_________________________________________________________________\n",
            "dropout_46 (Dropout)         (None, 3, 3, 512)         0         \n",
            "_________________________________________________________________\n",
            "flatten_11 (Flatten)         (None, 4608)              0         \n",
            "_________________________________________________________________\n",
            "dense_26 (Dense)             (None, 400)               1843600   \n",
            "_________________________________________________________________\n",
            "dense_27 (Dense)             (None, 7)                 2807      \n",
            "=================================================================\n",
            "Total params: 15,904,391\n",
            "Trainable params: 15,898,567\n",
            "Non-trainable params: 5,824\n",
            "_________________________________________________________________\n"
          ],
          "name": "stdout"
        }
      ]
    },
    {
      "cell_type": "code",
      "metadata": {
        "id": "VbPhVr4oFfUk",
        "colab": {
          "base_uri": "https://localhost:8080/"
        },
        "outputId": "7e2f9398-f7e0-41de-a82c-3edde43a25c2"
      },
      "source": [
        "history = model.fit(x = train_generator,epochs = epochs, validation_data = validation_generator)"
      ],
      "execution_count": 73,
      "outputs": [
        {
          "output_type": "stream",
          "text": [
            "Epoch 1/60\n",
            "180/180 [==============================] - 115s 622ms/step - loss: 2.3982 - accuracy: 0.2137 - val_loss: 1.8917 - val_accuracy: 0.1732\n",
            "Epoch 2/60\n",
            "180/180 [==============================] - 112s 620ms/step - loss: 1.7869 - accuracy: 0.2604 - val_loss: 1.8764 - val_accuracy: 0.2591\n",
            "Epoch 3/60\n",
            "180/180 [==============================] - 111s 619ms/step - loss: 1.7286 - accuracy: 0.2961 - val_loss: 1.7507 - val_accuracy: 0.3031\n",
            "Epoch 4/60\n",
            "180/180 [==============================] - 112s 624ms/step - loss: 1.6664 - accuracy: 0.3295 - val_loss: 1.5299 - val_accuracy: 0.4022\n",
            "Epoch 5/60\n",
            "180/180 [==============================] - 111s 619ms/step - loss: 1.6001 - accuracy: 0.3660 - val_loss: 1.5032 - val_accuracy: 0.4176\n",
            "Epoch 6/60\n",
            "180/180 [==============================] - 111s 619ms/step - loss: 1.5335 - accuracy: 0.3966 - val_loss: 1.4194 - val_accuracy: 0.4581\n",
            "Epoch 7/60\n",
            "180/180 [==============================] - 112s 622ms/step - loss: 1.4610 - accuracy: 0.4263 - val_loss: 1.3718 - val_accuracy: 0.4644\n",
            "Epoch 8/60\n",
            "180/180 [==============================] - 111s 619ms/step - loss: 1.3897 - accuracy: 0.4583 - val_loss: 1.2794 - val_accuracy: 0.5084\n",
            "Epoch 9/60\n",
            "180/180 [==============================] - 112s 620ms/step - loss: 1.3371 - accuracy: 0.4827 - val_loss: 1.3028 - val_accuracy: 0.4972\n",
            "Epoch 10/60\n",
            "180/180 [==============================] - 112s 620ms/step - loss: 1.2956 - accuracy: 0.5006 - val_loss: 1.2208 - val_accuracy: 0.5126\n",
            "Epoch 11/60\n",
            "180/180 [==============================] - 112s 622ms/step - loss: 1.2563 - accuracy: 0.5148 - val_loss: 1.1971 - val_accuracy: 0.5293\n",
            "Epoch 12/60\n",
            "180/180 [==============================] - 111s 618ms/step - loss: 1.2162 - accuracy: 0.5377 - val_loss: 1.2191 - val_accuracy: 0.5251\n",
            "Epoch 13/60\n",
            "180/180 [==============================] - 112s 620ms/step - loss: 1.1813 - accuracy: 0.5510 - val_loss: 1.1668 - val_accuracy: 0.5482\n",
            "Epoch 14/60\n",
            "180/180 [==============================] - 112s 622ms/step - loss: 1.1367 - accuracy: 0.5680 - val_loss: 1.1625 - val_accuracy: 0.5517\n",
            "Epoch 15/60\n",
            "180/180 [==============================] - 112s 622ms/step - loss: 1.1170 - accuracy: 0.5734 - val_loss: 1.1128 - val_accuracy: 0.5712\n",
            "Epoch 16/60\n",
            "180/180 [==============================] - 112s 622ms/step - loss: 1.1000 - accuracy: 0.5850 - val_loss: 1.0821 - val_accuracy: 0.5831\n",
            "Epoch 17/60\n",
            "180/180 [==============================] - 111s 619ms/step - loss: 1.0708 - accuracy: 0.5918 - val_loss: 1.0866 - val_accuracy: 0.5852\n",
            "Epoch 18/60\n",
            "180/180 [==============================] - 111s 618ms/step - loss: 1.0569 - accuracy: 0.6012 - val_loss: 1.1950 - val_accuracy: 0.5698\n",
            "Epoch 19/60\n",
            "180/180 [==============================] - 112s 621ms/step - loss: 1.0293 - accuracy: 0.6105 - val_loss: 1.0440 - val_accuracy: 0.6124\n",
            "Epoch 20/60\n",
            "180/180 [==============================] - 112s 623ms/step - loss: 1.0235 - accuracy: 0.6093 - val_loss: 1.1463 - val_accuracy: 0.5642\n",
            "Epoch 21/60\n",
            "180/180 [==============================] - 111s 617ms/step - loss: 0.9829 - accuracy: 0.6265 - val_loss: 1.1480 - val_accuracy: 0.5922\n",
            "Epoch 22/60\n",
            "180/180 [==============================] - 111s 616ms/step - loss: 0.9726 - accuracy: 0.6342 - val_loss: 1.0797 - val_accuracy: 0.6061\n",
            "Epoch 23/60\n",
            "180/180 [==============================] - 111s 617ms/step - loss: 0.9543 - accuracy: 0.6395 - val_loss: 1.0253 - val_accuracy: 0.6117\n",
            "Epoch 24/60\n",
            "180/180 [==============================] - 111s 616ms/step - loss: 0.9459 - accuracy: 0.6395 - val_loss: 1.0037 - val_accuracy: 0.6299\n",
            "Epoch 25/60\n",
            "180/180 [==============================] - 111s 615ms/step - loss: 0.9210 - accuracy: 0.6545 - val_loss: 1.0410 - val_accuracy: 0.6208\n",
            "Epoch 26/60\n",
            "180/180 [==============================] - 111s 618ms/step - loss: 0.9005 - accuracy: 0.6616 - val_loss: 1.0623 - val_accuracy: 0.6159\n",
            "Epoch 27/60\n",
            "180/180 [==============================] - 111s 617ms/step - loss: 0.8841 - accuracy: 0.6655 - val_loss: 1.0653 - val_accuracy: 0.6047\n",
            "Epoch 28/60\n",
            "180/180 [==============================] - 111s 616ms/step - loss: 0.8726 - accuracy: 0.6773 - val_loss: 1.0228 - val_accuracy: 0.6236\n",
            "Epoch 29/60\n",
            "180/180 [==============================] - 111s 618ms/step - loss: 0.8569 - accuracy: 0.6793 - val_loss: 0.9974 - val_accuracy: 0.6501\n",
            "Epoch 30/60\n",
            "180/180 [==============================] - 111s 614ms/step - loss: 0.8417 - accuracy: 0.6802 - val_loss: 1.0221 - val_accuracy: 0.6327\n",
            "Epoch 31/60\n",
            "180/180 [==============================] - 110s 611ms/step - loss: 0.8190 - accuracy: 0.6954 - val_loss: 1.0237 - val_accuracy: 0.6404\n",
            "Epoch 32/60\n",
            "180/180 [==============================] - 110s 611ms/step - loss: 0.8251 - accuracy: 0.6899 - val_loss: 1.0618 - val_accuracy: 0.6327\n",
            "Epoch 33/60\n",
            "180/180 [==============================] - 111s 615ms/step - loss: 0.7964 - accuracy: 0.7085 - val_loss: 0.9639 - val_accuracy: 0.6557\n",
            "Epoch 34/60\n",
            "180/180 [==============================] - 110s 611ms/step - loss: 0.7852 - accuracy: 0.7054 - val_loss: 1.0832 - val_accuracy: 0.6201\n",
            "Epoch 35/60\n",
            "180/180 [==============================] - 111s 618ms/step - loss: 0.7733 - accuracy: 0.7107 - val_loss: 1.1423 - val_accuracy: 0.6187\n",
            "Epoch 36/60\n",
            "180/180 [==============================] - 111s 614ms/step - loss: 0.7458 - accuracy: 0.7208 - val_loss: 0.9943 - val_accuracy: 0.6606\n",
            "Epoch 37/60\n",
            "180/180 [==============================] - 111s 614ms/step - loss: 0.7317 - accuracy: 0.7251 - val_loss: 1.0655 - val_accuracy: 0.6592\n",
            "Epoch 38/60\n",
            "180/180 [==============================] - 111s 619ms/step - loss: 0.7295 - accuracy: 0.7285 - val_loss: 1.0548 - val_accuracy: 0.6425\n",
            "Epoch 39/60\n",
            "180/180 [==============================] - 111s 618ms/step - loss: 0.7026 - accuracy: 0.7400 - val_loss: 1.0910 - val_accuracy: 0.6348\n",
            "Epoch 40/60\n",
            "180/180 [==============================] - 111s 619ms/step - loss: 0.6900 - accuracy: 0.7458 - val_loss: 1.1572 - val_accuracy: 0.6208\n",
            "Epoch 41/60\n",
            "180/180 [==============================] - 111s 617ms/step - loss: 0.6805 - accuracy: 0.7436 - val_loss: 1.0143 - val_accuracy: 0.6418\n",
            "Epoch 42/60\n",
            "180/180 [==============================] - 111s 614ms/step - loss: 0.6563 - accuracy: 0.7591 - val_loss: 1.0264 - val_accuracy: 0.6592\n",
            "Epoch 43/60\n",
            "180/180 [==============================] - 111s 617ms/step - loss: 0.6477 - accuracy: 0.7637 - val_loss: 1.0579 - val_accuracy: 0.6620\n",
            "Epoch 44/60\n",
            "180/180 [==============================] - 111s 614ms/step - loss: 0.6277 - accuracy: 0.7674 - val_loss: 1.0913 - val_accuracy: 0.6432\n",
            "Epoch 45/60\n",
            "180/180 [==============================] - 111s 616ms/step - loss: 0.6242 - accuracy: 0.7641 - val_loss: 1.1203 - val_accuracy: 0.6557\n",
            "Epoch 46/60\n",
            "180/180 [==============================] - 111s 618ms/step - loss: 0.6252 - accuracy: 0.7715 - val_loss: 1.0679 - val_accuracy: 0.6641\n",
            "Epoch 47/60\n",
            "180/180 [==============================] - 112s 623ms/step - loss: 0.5862 - accuracy: 0.7836 - val_loss: 1.1377 - val_accuracy: 0.6376\n",
            "Epoch 48/60\n",
            "180/180 [==============================] - 111s 619ms/step - loss: 0.5870 - accuracy: 0.7865 - val_loss: 1.1094 - val_accuracy: 0.6676\n",
            "Epoch 49/60\n",
            "180/180 [==============================] - 111s 615ms/step - loss: 0.5711 - accuracy: 0.7890 - val_loss: 1.1631 - val_accuracy: 0.6404\n",
            "Epoch 50/60\n",
            "180/180 [==============================] - 111s 617ms/step - loss: 0.5598 - accuracy: 0.7936 - val_loss: 1.1040 - val_accuracy: 0.6802\n",
            "Epoch 51/60\n",
            "180/180 [==============================] - 111s 617ms/step - loss: 0.5355 - accuracy: 0.8030 - val_loss: 1.1466 - val_accuracy: 0.6557\n",
            "Epoch 52/60\n",
            "180/180 [==============================] - 110s 612ms/step - loss: 0.5339 - accuracy: 0.8018 - val_loss: 1.0689 - val_accuracy: 0.6676\n",
            "Epoch 53/60\n",
            "180/180 [==============================] - 108s 598ms/step - loss: 0.5156 - accuracy: 0.8124 - val_loss: 1.1046 - val_accuracy: 0.6760\n",
            "Epoch 54/60\n",
            "180/180 [==============================] - 108s 600ms/step - loss: 0.5219 - accuracy: 0.8106 - val_loss: 1.1657 - val_accuracy: 0.6592\n",
            "Epoch 55/60\n",
            "180/180 [==============================] - 109s 603ms/step - loss: 0.4755 - accuracy: 0.8200 - val_loss: 1.1818 - val_accuracy: 0.6536\n",
            "Epoch 56/60\n",
            "180/180 [==============================] - 109s 607ms/step - loss: 0.4745 - accuracy: 0.8280 - val_loss: 1.1486 - val_accuracy: 0.6683\n",
            "Epoch 57/60\n",
            "180/180 [==============================] - 109s 603ms/step - loss: 0.4667 - accuracy: 0.8296 - val_loss: 1.1995 - val_accuracy: 0.6648\n",
            "Epoch 58/60\n",
            "180/180 [==============================] - 108s 602ms/step - loss: 0.4652 - accuracy: 0.8296 - val_loss: 1.2595 - val_accuracy: 0.6487\n",
            "Epoch 59/60\n",
            "180/180 [==============================] - 108s 601ms/step - loss: 0.4573 - accuracy: 0.8315 - val_loss: 1.2954 - val_accuracy: 0.6397\n",
            "Epoch 60/60\n",
            "180/180 [==============================] - 109s 603ms/step - loss: 0.4644 - accuracy: 0.8320 - val_loss: 1.1916 - val_accuracy: 0.6641\n"
          ],
          "name": "stdout"
        }
      ]
    },
    {
      "cell_type": "code",
      "metadata": {
        "id": "ERI1pVefNjBv",
        "colab": {
          "base_uri": "https://localhost:8080/",
          "height": 295
        },
        "outputId": "f3124ec0-9a3b-4a04-f6c7-4990309fa2a8"
      },
      "source": [
        "fig , ax = plt.subplots(1,2)\n",
        "train_acc = history.history['accuracy']\n",
        "train_loss = history.history['loss']\n",
        "fig.set_size_inches(12,4)\n",
        "\n",
        "ax[0].plot(history.history['accuracy'])\n",
        "ax[0].plot(history.history['val_accuracy'])\n",
        "ax[0].set_title('Training Accuracy vs Validation Accuracy')\n",
        "ax[0].set_ylabel('Accuracy')\n",
        "ax[0].set_xlabel('Epoch')\n",
        "ax[0].legend(['Train', 'Validation'], loc='upper left')\n",
        "\n",
        "ax[1].plot(history.history['loss'])\n",
        "ax[1].plot(history.history['val_loss'])\n",
        "ax[1].set_title('Training Loss vs Validation Loss')\n",
        "ax[1].set_ylabel('Loss')\n",
        "ax[1].set_xlabel('Epoch')\n",
        "ax[1].legend(['Train', 'Validation'], loc='upper left')\n",
        "\n",
        "plt.show()"
      ],
      "execution_count": 74,
      "outputs": [
        {
          "output_type": "display_data",
          "data": {
            "image/png": "[encoded data removed]",
            "text/plain": [
              "<Figure size 864x288 with 2 Axes>"
            ]
          },
          "metadata": {
            "tags": [],
            "needs_background": "light"
          }
        }
      ]
    },
    {
      "cell_type": "code",
      "metadata": {
        "id": "v2QuP7FwFk6Q"
      },
      "source": [
        "model.save('model_optimal.h5')"
      ],
      "execution_count": 76,
      "outputs": []
    },
    {
      "cell_type": "code",
      "metadata": {
        "colab": {
          "base_uri": "https://localhost:8080/",
          "height": 284
        },
        "id": "8npUXftBmGrk",
        "outputId": "bac7bb3b-84fd-4f4e-fed8-846bcf8b7429"
      },
      "source": [
        "img = image.load_img(\"image_dataset/test/angry/im87.png\",target_size = (48,48),color_mode = \"grayscale\")\n",
        "img = np.array(img)\n",
        "plt.imshow(img)\n",
        "print(img.shape) #prints (48,48) that is the shape of our image"
      ],
      "execution_count": 87,
      "outputs": [
        {
          "output_type": "stream",
          "text": [
            "(48, 48)\n"
          ],
          "name": "stdout"
        },
        {
          "output_type": "display_data",
          "data": {
            "image/png": "[encoded data removed]",
            "text/plain": [
              "<Figure size 432x288 with 1 Axes>"
            ]
          },
          "metadata": {
            "tags": [],
            "needs_background": "light"
          }
        }
      ]
    },
    {
      "cell_type": "code",
      "metadata": {
        "id": "VbNIJs8LmKqR"
      },
      "source": [
        "label_dict = {0:'Angry',1:'Disgust',2:'Fear',3:'Happy',4:'Neutral',5:'Sad',6:'Surprise'}"
      ],
      "execution_count": 88,
      "outputs": []
    },
    {
      "cell_type": "code",
      "metadata": {
        "colab": {
          "base_uri": "https://localhost:8080/"
        },
        "id": "vcvjbokGmMLh",
        "outputId": "0591b3bd-a5a2-4fc4-8a16-0d510ad6ac81"
      },
      "source": [
        "img = np.expand_dims(img,axis = 0) #makes image shape (1,48,48)\n",
        "img = img.reshape(1,48,48,1)\n",
        "result = model.predict(img)\n",
        "result = list(result[0])\n",
        "print(result)"
      ],
      "execution_count": 89,
      "outputs": [
        {
          "output_type": "stream",
          "text": [
            "[0.0005629772, 3.9485425e-20, 7.822509e-12, 7.880792e-20, 8.053738e-06, 0.9994287, 2.5323283e-07]\n"
          ],
          "name": "stdout"
        }
      ]
    },
    {
      "cell_type": "code",
      "metadata": {
        "colab": {
          "base_uri": "https://localhost:8080/"
        },
        "id": "Heww_rDfmNv2",
        "outputId": "098edb8d-9174-4dd9-f905-8c46ffc2a582"
      },
      "source": [
        "img_index = result.index(max(result))\n",
        "print(label_dict[img_index])\n",
        "plt.show()"
      ],
      "execution_count": 90,
      "outputs": [
        {
          "output_type": "stream",
          "text": [
            "Sad\n"
          ],
          "name": "stdout"
        }
      ]
    },
    {
      "cell_type": "code",
      "metadata": {
        "colab": {
          "base_uri": "https://localhost:8080/"
        },
        "id": "RQKm86NPmPCC",
        "outputId": "34ee9a53-c5b8-4da0-b223-6f95535eec0c"
      },
      "source": [
        "train_loss, train_acc = model.evaluate(train_generator)\n",
        "test_loss, test_acc   = model.evaluate(validation_generator)\n",
        "print(\"final train accuracy = {:.2f} , validation accuracy = {:.2f}\".format(train_acc*100, test_acc*100))"
      ],
      "execution_count": 91,
      "outputs": [
        {
          "output_type": "stream",
          "text": [
            "180/180 [==============================] - 34s 186ms/step - loss: 0.4674 - accuracy: 0.8317\n",
            "12/12 [==============================] - 2s 177ms/step - loss: 1.1916 - accuracy: 0.6641\n",
            "final train accuracy = 83.17 , validation accuracy = 66.41\n"
          ],
          "name": "stdout"
        }
      ]
    },
    {
      "cell_type": "code",
      "metadata": {
        "id": "kYUZeIenmQWt"
      },
      "source": [
        "model.save_weights('model_weights.h5')"
      ],
      "execution_count": 93,
      "outputs": []
    }
  ]
}